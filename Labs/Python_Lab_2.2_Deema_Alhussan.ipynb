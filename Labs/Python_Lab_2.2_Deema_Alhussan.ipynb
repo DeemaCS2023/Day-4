{
 "cells": [
  {
   "cell_type": "markdown",
   "metadata": {
    "id": "E9Y5ss1ZYj3r"
   },
   "source": [
    "# Python_Lab_2.2\n"
   ]
  },
  {
   "cell_type": "markdown",
   "metadata": {
    "id": "Q1kAqc72Yj3t"
   },
   "source": [
    "### Task 1\n",
    "1. Write a program that prompts the user to enter two numbers and prints their division. Handle cases where the user enters non-numeric values or attempts to divide by zero using a try-except block.\n"
   ]
  },
  {
   "cell_type": "code",
   "execution_count": 1,
   "metadata": {
    "id": "H-xyoRTVYj3t"
   },
   "outputs": [
    {
     "name": "stdout",
     "output_type": "stream",
     "text": [
      "The result after divide -4 by 1 is -4.0\n"
     ]
    }
   ],
   "source": [
    "def Division_process():\n",
    "    while True:\n",
    "        try:\n",
    "        \n",
    "            number_1 = int(input(\"Enter the first number: \"))\n",
    "            number_2 = int(input(\"Enter the second number: \"))\n",
    "            \n",
    "        \n",
    "            result_after_divide = number_1 / number_2\n",
    "            \n",
    "        except ValueError:\n",
    "            print(\"Please enter numeric values only\")\n",
    "            continue\n",
    "        except ZeroDivisionError:\n",
    "            print(\"Please enter a non-zero divisor like: 1,2,3,-4\")\n",
    "            continue\n",
    "        else:\n",
    "            print(f\"The result after divide {number_1} by {number_2} is {result_after_divide}\")\n",
    "            break\n",
    "\n",
    "Division_process()"
   ]
  },
  {
   "cell_type": "markdown",
   "metadata": {
    "id": "CPWcDSC_Yj3u"
   },
   "source": [
    "### Task 2\n",
    "- Use \"Random\" library to do the following:\n",
    "    1. Create a list of random numbers using list comprehension.\n",
    "    2. Create a list of squares of the even numbers from random numbers using list comprehension.\n",
    "    3. Create a list of tuples (number, square) for random numbers using list comprehension."
   ]
  },
  {
   "cell_type": "code",
   "execution_count": 2,
   "metadata": {
    "id": "Yfq-i6CeYj3u"
   },
   "outputs": [
    {
     "name": "stdout",
     "output_type": "stream",
     "text": [
      "Random numbers:[2, 93, 42, 85, 88, 11, 17, 100, 82, 11]\n",
      "Random numbers after squares of even numbers:[4, 1764, 7744, 10000, 6724]\n",
      "Tuples of numbers and their squares:[(2, 4), (93, 8649), (42, 1764), (85, 7225), (88, 7744), (11, 121), (17, 289), (100, 10000), (82, 6724), (11, 121)]\n"
     ]
    }
   ],
   "source": [
    "import random \n",
    "\n",
    "\n",
    "my_random_numbers = [random.randint(1, 100) for n in range(10)]\n",
    "print(f\"Random numbers:{ my_random_numbers}\")\n",
    "\n",
    "squares_of_even_numbers = [n**2 for n in my_random_numbers if n % 2 == 0]\n",
    "print(f\"Random numbers after squares of even numbers:{squares_of_even_numbers}\")\n",
    "\n",
    "\n",
    "my_list_of_tuples = [(n, n**2) for n in my_random_numbers]\n",
    "print(f\"Tuples of numbers and their squares:{my_list_of_tuples}\")\n"
   ]
  },
  {
   "cell_type": "markdown",
   "metadata": {
    "id": "jYdOq46NYj3u"
   },
   "source": [
    "### Task 3\n",
    "- Create a dictionary where the keys are numbers from 1 to 5 and the values are list of their squares and cubes.\n",
    "\n",
    "  - **hint**: use dictionary of list comprehension.\n",
    "\n",
    "- Create a dictionary from two lists (one with keys and one with values) using dictionary comprehension.\n",
    "\n"
   ]
  },
  {
   "cell_type": "code",
   "execution_count": 3,
   "metadata": {
    "id": "IEnsiNmCYj3u"
   },
   "outputs": [
    {
     "name": "stdout",
     "output_type": "stream",
     "text": [
      "Dictionary after perform Squares and Cubes:{1: [1, 1], 2: [4, 8], 3: [9, 27], 4: [16, 64], 5: [25, 125]}\n",
      "\n",
      "A dictionary containing the students' ID and names:{'P01': 'Huda', 'P02': 'Reham', 'P03': 'Noura'}\n"
     ]
    }
   ],
   "source": [
    "my_squares_cubes_dictionary = {n: [n**2, n**3] for n in range(1, 6)}\n",
    "print(f\"Dictionary after perform Squares and Cubes:{my_squares_cubes_dictionary}\")\n",
    "\n",
    "print()\n",
    "keys = ['P01', 'P02', 'P03']\n",
    "values = [\"Huda\", \"Reham\", \"Noura\"]\n",
    "\n",
    "dictionary_with_lists= {keys[i]: values[i] for i in range(len(keys))}\n",
    "print(f\"A dictionary containing the students' ID and names:{dictionary_with_lists}\")"
   ]
  },
  {
   "cell_type": "markdown",
   "metadata": {
    "id": "6T9TCQ8SYj3v"
   },
   "source": [
    "### Task 4\n",
    "- Given a dictionary where keys are student names and values are lists of their scores, write a function that updates the scores of students who have achieved a perfect score (100) by adding a bonus of 5 points to each score. Use dictionary comprehension to achieve this.\n",
    "\n",
    "    - Implement the function add_bonus_to_perfect_scores(student_scores) that adds a bonus of 5 points to each score of students who have achieved a perfect score (100)."
   ]
  },
  {
   "cell_type": "code",
   "execution_count": 4,
   "metadata": {
    "id": "T3R_VsQpYj3v"
   },
   "outputs": [
    {
     "name": "stdout",
     "output_type": "stream",
     "text": [
      "Students’ scores after adding the bonus:\n",
      "\n",
      "{'Reham': [95, 105, 85], 'Noura': [105, 105, 95], 'Huda': [80, 88, 90]}\n"
     ]
    }
   ],
   "source": [
    "def add_bonus_to_perfect_scores(student_scores):\n",
    "    return {student: [score + 5 if score == 100 else score \n",
    "                       for score in new_student_scores]\n",
    "            for student, new_student_scores in student_scores.items()}\n",
    "\n",
    "\n",
    "student_scores = {\n",
    "    'Reham': [95, 100, 85],\n",
    "    'Noura': [100, 100, 95],\n",
    "    'Huda': [80, 88, 90]\n",
    "}\n",
    "\n",
    "after_updated_scores = add_bonus_to_perfect_scores(student_scores)\n",
    "print(f\"Students’ scores after adding the bonus:\\n\\n{after_updated_scores}\")\n",
    "\n",
    "\n",
    "\n"
   ]
  },
  {
   "cell_type": "markdown",
   "metadata": {
    "id": "rJkOEFAwYj3v"
   },
   "source": []
  }
 ],
 "metadata": {
  "colab": {
   "provenance": []
  },
  "kernelspec": {
   "display_name": "Python 3",
   "language": "python",
   "name": "python3"
  },
  "language_info": {
   "codemirror_mode": {
    "name": "ipython",
    "version": 3
   },
   "file_extension": ".py",
   "mimetype": "text/x-python",
   "name": "python",
   "nbconvert_exporter": "python",
   "pygments_lexer": "ipython3",
   "version": "3.12.6"
  }
 },
 "nbformat": 4,
 "nbformat_minor": 0
}
