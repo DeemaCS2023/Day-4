{
 "cells": [
  {
   "cell_type": "markdown",
   "metadata": {
    "id": "x7F-mxeubDUG"
   },
   "source": [
    "# Python_Lab_2.1\n"
   ]
  },
  {
   "cell_type": "markdown",
   "metadata": {
    "id": "14c6Hn1BbDUH"
   },
   "source": [
    "### Task 1\n",
    "1. Write a function named is_prime that takes a number as a parameter and returns True if the number is prime and False otherwise. Print whether the number 29 is prime."
   ]
  },
  {
   "cell_type": "code",
   "execution_count": 11,
   "metadata": {
    "id": "5e_MZEN0bDUI"
   },
   "outputs": [
    {
     "name": "stdout",
     "output_type": "stream",
     "text": [
      "The number 29 is prime.\n"
     ]
    },
    {
     "data": {
      "text/plain": [
       "True"
      ]
     },
     "execution_count": 11,
     "metadata": {},
     "output_type": "execute_result"
    }
   ],
   "source": [
    "def is_prime(x):\n",
    "   if x<2:\n",
    "      return False\n",
    "   for n in range (2,x):\n",
    "      if x %n==0:\n",
    "         return False\n",
    "      \n",
    "      print(f\"The number {x} is prime.\")\n",
    "      return True\n",
    "      \n",
    "   \n",
    "\n",
    "\n",
    "is_prime(29)\n",
    "\n"
   ]
  },
  {
   "cell_type": "markdown",
   "metadata": {
    "id": "2zKG8ZcybDUI"
   },
   "source": [
    "### Task 2\n",
    "1. Create a list of 10 numbers and sort them in descending order using the sort() function.\n",
    "2. Use the len() function to print the length of the sorted list.\n",
    "3. Use the zip() function to combine three lists (names, ages, and cities) into a list of tuples.\n",
    "4. Use the range() function to create a list of even numbers from 2 to 20 and print the list."
   ]
  },
  {
   "cell_type": "code",
   "execution_count": 19,
   "metadata": {
    "id": "yyoe__M_bDUI"
   },
   "outputs": [
    {
     "name": "stdout",
     "output_type": "stream",
     "text": [
      "[10, 9, 8, 7, 6, 5, 4, 3, 2, 1]\n"
     ]
    },
    {
     "data": {
      "text/plain": [
       "[('Reham', 22, 'Riyadh'), ('Noura', 23, 'Tabuk'), ('Huda', 21, 'Mecca')]"
      ]
     },
     "execution_count": 19,
     "metadata": {},
     "output_type": "execute_result"
    }
   ],
   "source": [
    "my_numbers=[1,2,3,4,5,6,7,8,9,10]\n",
    "my_numbers.sort(reverse=True)\n",
    "print(my_numbers)\n",
    "\n",
    "\n",
    "len(my_numbers)\n",
    "\n",
    "names=[\"Reham\",\"Noura\",\"Huda\"]\n",
    "ages=[22,23,21]\n",
    "cities=[\"Riyadh\",\"Tabuk\",\"Mecca\"]\n",
    "\n",
    "list(zip(names,ages,cities))\n"
   ]
  },
  {
   "cell_type": "markdown",
   "metadata": {
    "id": "aStW5p7AbDUI"
   },
   "source": [
    "### Task 3\n",
    "Build a phone book program that receives the phone number, and returns the name of the owner.\n",
    "You can follow the table below:\n",
    "\n",
    "| Name     | Number     |\n",
    "| -------- | ---------- |\n",
    "| Amal     | 1111111111 |\n",
    "| Mohammed | 2222222222 |\n",
    "| Khadijah | 3333333333 |\n",
    "| Abdullah | 4444444444 |\n",
    "| Rawan    | 5555555555 |\n",
    "| Faisal   | 6666666666 |\n",
    "| Layla    | 7777777777 |\n",
    "\n",
    "- If the number exists, print the owner. Otherwise, print \"Sorry, the number is not found\".\n",
    "- If the number is less or more than 10 numbers, print \"This is invalid number\".\n",
    "- If the number contains letters or symbols, print \"This is invalid number\".      \n"
   ]
  },
  {
   "cell_type": "code",
   "execution_count": 32,
   "metadata": {
    "id": "kvXmjUe-bDUJ"
   },
   "outputs": [
    {
     "name": "stdout",
     "output_type": "stream",
     "text": [
      "Layla\n"
     ]
    }
   ],
   "source": [
    "phone_book_program={\"1111111111\":\"Amal\",\"2222222222\":\"Mohammed\",\n",
    "                    \"3333333333\":\"Khadijah\",\n",
    "                    \"4444444444\":\"Abdullah\",\n",
    "                    \"5555555555\":\"Rawan\",\n",
    "                    \"6666666666\":\"Faisal\",\n",
    "                    \"7777777777\":\"Layla\"}\n",
    "\n",
    "\n",
    "\n",
    "def name_of_the_owner(num):\n",
    "        if not num.isdigit() or len(num)!=10: # مايكون أقل من 10 ارقام +لا يحتوي على رموز مثل @ او _ الخ   \n",
    "           return \"This is invalid number\"\n",
    "        \n",
    "        if num in phone_book_program:\n",
    "              return phone_book_program[num]\n",
    "        else:\n",
    "              \n",
    "          return \"Sorry, the number is not found\"\n",
    "        \n",
    "\n",
    "phone_number_form_user=input(\"Please enter the phone number to find the owner's name :\")\n",
    "print(name_of_the_owner(phone_number_form_user))\n",
    " \n",
    "        "
   ]
  },
  {
   "cell_type": "markdown",
   "metadata": {
    "id": "exLHQ28nbDUJ"
   },
   "source": [
    "### Task 4\n",
    "- Given the following list : [5, 4, 17, 19, 30, 2, 7, 10, 45]\n",
    "    1. Use a lambda function to filter out only the odd numbers.\n",
    "    2. Print the new list of odd numbers."
   ]
  },
  {
   "cell_type": "code",
   "execution_count": 35,
   "metadata": {
    "id": "64SUsh1cbDUJ"
   },
   "outputs": [
    {
     "name": "stdout",
     "output_type": "stream",
     "text": [
      "After filter only the odd numbers : \n",
      " [5, 17, 19, 7, 45]\n"
     ]
    }
   ],
   "source": [
    "numbers=[5, 4, 17, 19, 30, 2, 7, 10, 45]\n",
    "\n",
    "filter_odd_numbers=list((filter(lambda n :n%2!=0,numbers)))\n",
    "\n",
    "print(f\"After filter only the odd numbers : \\n {filter_odd_numbers}\")\n"
   ]
  }
 ],
 "metadata": {
  "colab": {
   "provenance": []
  },
  "kernelspec": {
   "display_name": "Python 3",
   "language": "python",
   "name": "python3"
  },
  "language_info": {
   "codemirror_mode": {
    "name": "ipython",
    "version": 3
   },
   "file_extension": ".py",
   "mimetype": "text/x-python",
   "name": "python",
   "nbconvert_exporter": "python",
   "pygments_lexer": "ipython3",
   "version": "3.12.6"
  }
 },
 "nbformat": 4,
 "nbformat_minor": 0
}
